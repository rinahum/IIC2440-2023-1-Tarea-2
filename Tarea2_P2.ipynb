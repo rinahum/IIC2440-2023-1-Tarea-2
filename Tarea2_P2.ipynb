{
  "nbformat": 4,
  "nbformat_minor": 0,
  "metadata": {
    "colab": {
      "provenance": []
    },
    "kernelspec": {
      "name": "python3",
      "display_name": "Python 3"
    },
    "language_info": {
      "name": "python"
    }
  },
  "cells": [
    {
      "cell_type": "markdown",
      "source": [
        "# Tarea 2\n",
        "## IIC2440 - Procesamiento de Datos Masivos\n",
        "\n",
        "integrantes:\n",
        "- Rodrigo Nahum\n",
        "- Fernando Quintana\n",
        "\n",
        "## Parte 2: Single Source Shortest Path"
      ],
      "metadata": {
        "id": "pHJf3M8tgor3"
      }
    },
    {
      "cell_type": "markdown",
      "source": [
        "# Setup"
      ],
      "metadata": {
        "id": "wo4PU3wXg22C"
      }
    },
    {
      "cell_type": "markdown",
      "source": [
        "Primero, instalamos pyspark."
      ],
      "metadata": {
        "id": "ZaAuTQmag4H6"
      }
    },
    {
      "cell_type": "code",
      "execution_count": 1,
      "metadata": {
        "colab": {
          "base_uri": "https://localhost:8080/"
        },
        "id": "t6pVJg4W5FAE",
        "outputId": "aecd13f1-87f3-48d9-fcde-3e7e4adb97ba"
      },
      "outputs": [
        {
          "output_type": "stream",
          "name": "stdout",
          "text": [
            "Collecting pyspark\n",
            "  Downloading pyspark-3.4.1.tar.gz (310.8 MB)\n",
            "\u001b[2K     \u001b[90m━━━━━━━━━━━━━━━━━━━━━━━━━━━━━━━━━━━━━━━\u001b[0m \u001b[32m310.8/310.8 MB\u001b[0m \u001b[31m3.7 MB/s\u001b[0m eta \u001b[36m0:00:00\u001b[0m\n",
            "\u001b[?25h  Preparing metadata (setup.py) ... \u001b[?25l\u001b[?25hdone\n",
            "Requirement already satisfied: py4j==0.10.9.7 in /usr/local/lib/python3.10/dist-packages (from pyspark) (0.10.9.7)\n",
            "Building wheels for collected packages: pyspark\n",
            "  Building wheel for pyspark (setup.py) ... \u001b[?25l\u001b[?25hdone\n",
            "  Created wheel for pyspark: filename=pyspark-3.4.1-py2.py3-none-any.whl size=311285398 sha256=c03e8169440c2f93dfae41ea19f06183eec8585db4160e96f457c6752af885e2\n",
            "  Stored in directory: /root/.cache/pip/wheels/0d/77/a3/ff2f74cc9ab41f8f594dabf0579c2a7c6de920d584206e0834\n",
            "Successfully built pyspark\n",
            "Installing collected packages: pyspark\n",
            "Successfully installed pyspark-3.4.1\n"
          ]
        }
      ],
      "source": [
        "!pip install pyspark"
      ]
    },
    {
      "cell_type": "markdown",
      "source": [
        "Luego, importamos PySpark y otras librerias a usar, y cramos un Spark Context."
      ],
      "metadata": {
        "id": "yq4vwr5Dg66m"
      }
    },
    {
      "cell_type": "code",
      "source": [
        "from pyspark.sql import SparkSession\n",
        "from itertools import permutations\n",
        "import random\n",
        "import json\n",
        "import math\n",
        "\n",
        "spark = SparkSession.builder \\\n",
        "    .getOrCreate()\n",
        "\n",
        "sc = spark.sparkContext"
      ],
      "metadata": {
        "id": "7PI3srla5OKU"
      },
      "execution_count": 2,
      "outputs": []
    },
    {
      "cell_type": "markdown",
      "source": [
        "# Definición del grafo"
      ],
      "metadata": {
        "id": "uONb9gYThDLp"
      }
    },
    {
      "cell_type": "markdown",
      "source": [
        "## Grafo de ejemplo"
      ],
      "metadata": {
        "id": "UiumwHlaEgF7"
      }
    },
    {
      "cell_type": "markdown",
      "source": [
        "En esta parte, definimos el grafo a usar. Primero, usamos el grafo dado de ejemplo en la tarea."
      ],
      "metadata": {
        "id": "fjpjNHt_hMiC"
      }
    },
    {
      "cell_type": "code",
      "source": [
        "node_list = [1, 2, 3, 4]\n",
        "edges_list = [(1, 2, 10), (2, 3, 3), (2, 4, 24), (3, 2, 1), (2, 1, 5), (4, 3, 7)]\n",
        "\n",
        "nodes = sc.parallelize(node_list)\n",
        "edges = sc.parallelize(edges_list).map(lambda x: (x[0], (x[1], x[2])))\n",
        "\n",
        "initial_node = 1"
      ],
      "metadata": {
        "id": "SBLYcYFO5S_s"
      },
      "execution_count": 74,
      "outputs": []
    },
    {
      "cell_type": "markdown",
      "source": [
        "## Grafo aleatorio"
      ],
      "metadata": {
        "id": "FpYJuMmJEhtB"
      }
    },
    {
      "cell_type": "markdown",
      "source": [
        "Tambien, damos la opción de generar un grafo aleatorio. Abajo, `n` es la cantidad de nodos del grafo, y `edge_chance` es la probabilidad de que una arista cualquiera aparezca en el grafo. O sea, generamos todos los pares de nodos, y para cada uno, decidimos si esa arista está en el grafo, según la probabilidad de `edge_chance`."
      ],
      "metadata": {
        "id": "zNb1I8-YhY_W"
      }
    },
    {
      "cell_type": "code",
      "source": [
        "n = 10000\n",
        "\n",
        "edge_chance = 0.002\n",
        "\n",
        "nodes_list = [i + 1 for i in range(n)]\n",
        "\n",
        "edges_list = []\n",
        "for edge in permutations(nodes_list, 2):\n",
        "    if random.random() < edge_chance:\n",
        "        edge_cost = random.randint(20, 40)\n",
        "        edges_list.append([*edge, edge_cost])\n",
        "\n",
        "\n",
        "nodes = sc.parallelize(nodes_list)\n",
        "edges = sc.parallelize(edges_list).map(lambda x: (x[0], (x[1], x[2])))\n",
        "\n",
        "initial_node = 1"
      ],
      "metadata": {
        "id": "7amTdhIq_1MH"
      },
      "execution_count": 20,
      "outputs": []
    },
    {
      "cell_type": "markdown",
      "source": [
        "## Grafo de Cora"
      ],
      "metadata": {
        "id": "6kKbUL8LiRjf"
      }
    },
    {
      "cell_type": "markdown",
      "source": [
        "Por último, damos la opción de correr el algoritmo con el grafo de Cora. Esto requiere subir el archivo `cora.zip` al colab.\n",
        "\n",
        "Primero, hacemos unzip del archivo"
      ],
      "metadata": {
        "id": "wxMFCtHcEk6x"
      }
    },
    {
      "cell_type": "code",
      "source": [
        "!unzip cora.zip"
      ],
      "metadata": {
        "colab": {
          "base_uri": "https://localhost:8080/"
        },
        "id": "yxXNHdAtFXQN",
        "outputId": "f30cef08-910f-485a-e8ef-75c95703f283"
      },
      "execution_count": 25,
      "outputs": [
        {
          "output_type": "stream",
          "name": "stdout",
          "text": [
            "Archive:  cora.zip\n",
            "   creating: cora/\n",
            "  inflating: __MACOSX/._cora         \n",
            "  inflating: cora/cora.content       \n",
            "  inflating: __MACOSX/cora/._cora.content  \n",
            "  inflating: cora/README             \n",
            "  inflating: __MACOSX/cora/._README  \n",
            "  inflating: cora/cora.cites         \n",
            "  inflating: __MACOSX/cora/._cora.cites  \n"
          ]
        }
      ]
    },
    {
      "cell_type": "markdown",
      "source": [
        "Luego, pasamos el grafo al formato requerido por nuestro algoritmo. En este caso, supondremos que el costo de todas las aristas es 1."
      ],
      "metadata": {
        "id": "XsQvgOEtFhlt"
      }
    },
    {
      "cell_type": "code",
      "source": [
        "nodes_ids = set()\n",
        "edges_list = []\n",
        "\n",
        "\n",
        "with open('./cora/cora.cites', 'r') as tf:\n",
        "    for line in tf:\n",
        "        edge = line.strip().split('\\t')\n",
        "        first = int(edge[0])\n",
        "        second = int(edge[1])\n",
        "        edges_list.append((first, second, 1))\n",
        "        nodes_ids.add(first)\n",
        "        nodes_ids.add(second)\n",
        "\n",
        "nodes = sc.parallelize(list(nodes_ids))\n",
        "edges = sc.parallelize(edges_list).map(lambda x: (x[0], (x[1], x[2])))\n",
        "\n",
        "## Nodo inicial elegido al azar\n",
        "initial_node = 35"
      ],
      "metadata": {
        "id": "LDwNJybBFx_Q"
      },
      "execution_count": 78,
      "outputs": []
    },
    {
      "cell_type": "markdown",
      "source": [
        "# Single Source Shortest Path"
      ],
      "metadata": {
        "id": "IQO6bsl9iU1t"
      }
    },
    {
      "cell_type": "markdown",
      "source": [
        "## Inicialización"
      ],
      "metadata": {
        "id": "5gsB1hgqjHHy"
      }
    },
    {
      "cell_type": "markdown",
      "source": [
        "Para implementar este algoritmo, usamos el nodo de inicio definido arriba. Luego, inicializamos los estados de los nodos. En este algoritmo, todos los nodos parten con costo infinito, excepto el nodo inicial, que parte con costo 0."
      ],
      "metadata": {
        "id": "I3oYyzVJiZKS"
      }
    },
    {
      "cell_type": "code",
      "source": [
        "current_cost = nodes.map(lambda x: (x, 0 if x == initial_node else float('inf')))"
      ],
      "metadata": {
        "id": "ux_NuibNimVs"
      },
      "execution_count": 4,
      "outputs": []
    },
    {
      "cell_type": "markdown",
      "source": [
        "## Generación de mensajes."
      ],
      "metadata": {
        "id": "zbUvmLa_jJOT"
      }
    },
    {
      "cell_type": "markdown",
      "source": [
        "Luego, debemos crear los mensajes que cada nodo enviará. Para esto, hacemos un join entre los valores actuales y las aristas. Notemos que, en ambos RDDs, la llave es el nodo de origen. De esta forma, obtenemos tuplas que tienen el costo del nodo de origen, y el costo de una arista que sale de ese nodo (además del nodo de destino). Luego, hacemos un map para reordenar la información y sumar el costo del nodo con el de la arista. Obtenemos nuevas tuplas, en donde la llave es el nodo de destino, y el valor es el costo del nodo de origen más el de la arista."
      ],
      "metadata": {
        "id": "OzkYqWPHjLDx"
      }
    },
    {
      "cell_type": "code",
      "source": [
        "messages = current_cost.join(edges, 4).map(lambda x: (x[1][1][0], (x[1][0] + x[1][1][1])))"
      ],
      "metadata": {
        "id": "aaMG4wfBkuZ3"
      },
      "execution_count": 5,
      "outputs": []
    },
    {
      "cell_type": "markdown",
      "source": [
        "## Filtrado de mensajes."
      ],
      "metadata": {
        "id": "fVd9E4pPk6Uu"
      }
    },
    {
      "cell_type": "markdown",
      "source": [
        "En este caso, sí queremos filtrar mensajes. Los mensajes con costo infinito no nos interesan, ya que no aportan información a los nodos receptores. Entonces, filtramos todos los mensajes con costo infinito."
      ],
      "metadata": {
        "id": "pokmTNPzk9Ll"
      }
    },
    {
      "cell_type": "code",
      "source": [
        "filtered_messages =  messages.filter(lambda x: x[1] != float('inf'))"
      ],
      "metadata": {
        "id": "4CNaz_GGlKBI"
      },
      "execution_count": 6,
      "outputs": []
    },
    {
      "cell_type": "markdown",
      "source": [
        "## Agregación de mensajes."
      ],
      "metadata": {
        "id": "2lxKr8bAlSvB"
      }
    },
    {
      "cell_type": "markdown",
      "source": [
        "Luego, definimos una función para agregar los mensajes recibidos por cada nodo. Para esto, usamos un reduceByKey, de forma de juntar todos los mensajes enviados a un nodo (recordemos que, en los mensajes, la llave es el nodo de destino), y reducirlos según nuestra función de agregación.\n",
        "En este caso, solo queremos quedarnos con el mínimo costo recibido. Por lo tanto, la función de agregación será simplemente la función `min` de Python."
      ],
      "metadata": {
        "id": "1JxzlK-XlYv3"
      }
    },
    {
      "cell_type": "code",
      "source": [
        "aggregated_messages = filtered_messages.reduceByKey(lambda x, y: min(x, y))"
      ],
      "metadata": {
        "id": "W1KVGZ7Hlp4z"
      },
      "execution_count": 7,
      "outputs": []
    },
    {
      "cell_type": "markdown",
      "source": [
        "## Update del estado"
      ],
      "metadata": {
        "id": "Za-kzdiFl_fF"
      }
    },
    {
      "cell_type": "markdown",
      "source": [
        "Luego, para updatear el estado de los nodos, debemos obtener el estado actual y el resultado de agregar los mensajes. Para esto, usamos un leftOuterJoin entre los estados actuales, y los mensajes agregados (de nuevo, recordemos que la llave de los mensajes agregados es el nodo receptor, entonces, al hacer el leftOuterJoin, tendremos el estado del nodo receptor y el resultado de agregar sus mensajes recibidos). Hacemos un leftOuterJoin, ya que pueden existir nodos sin aristas entrantes, o sea, que no recibieron ningún mensaje.\n",
        "\n",
        "Luego del leftOuterJoin, hacemos un map para reordenar la información y computar el nuevo valor del nodo. En este caso, de nuevo, nos queremos quedar con el mínimo entre el estado actual y el resultado de agregar los mensajes.\n",
        "\n",
        "En la función para juntar los valores, se verifica si `tup[1]` es `None` (esto ocurre cuando el nodo no tiene aristas entrantes, o sea, su mensaje agregado es `None`), porque no podemos hacer `min()` con `None`."
      ],
      "metadata": {
        "id": "bZ7FEzC_mDV1"
      }
    },
    {
      "cell_type": "code",
      "source": [
        "def compare_values(tup):\n",
        "  if (tup[1]) is None:\n",
        "    return tup[0]\n",
        "  return min(tup)\n",
        "\n",
        "new_cost = current_cost.leftOuterJoin(aggregated_messages, 4).map(lambda x: (x[0], compare_values(x[1])))"
      ],
      "metadata": {
        "id": "1pA-5jVDwMzm"
      },
      "execution_count": 8,
      "outputs": []
    },
    {
      "cell_type": "markdown",
      "source": [
        "## Condición de término"
      ],
      "metadata": {
        "id": "FLG6y0QkxQ55"
      }
    },
    {
      "cell_type": "markdown",
      "source": [
        "Por último, la condición de término es que el valor de ningún nodo haya cambiando entre los valores anteriores y los nuevos valores. Para esto, definimos una nuevoa función que compute esta diferencia. Entonces, hacemos join entre los valores anteriores y los nuevos, obteniendo tuplas que, para cada nodo, tienen el valor anterior y el nuevo valor. Luego, computamos la diferencia entre estos valores, y obtenemos el máximo de todas estas diferencias. Si este máximo es 0, significa que ningún nodo cambió su costo entre la iteración anterior y la nueva."
      ],
      "metadata": {
        "id": "v9F0LNJDxUYt"
      }
    },
    {
      "cell_type": "code",
      "source": [
        "def get_diff(tup):\n",
        "  if tup[1][0] == float('inf') and tup[1][1] == float('inf'):\n",
        "    return 0\n",
        "  return tup[1][1] - tup[1][0]\n",
        "\n",
        "max_change = new_cost.join(current_cost, 4).map(get_diff).max()\n",
        "\n",
        "max_change"
      ],
      "metadata": {
        "colab": {
          "base_uri": "https://localhost:8080/"
        },
        "id": "qTW6xwGxyNgk",
        "outputId": "b1aebd60-3161-49c2-822c-2557eeb2df4e"
      },
      "execution_count": 10,
      "outputs": [
        {
          "output_type": "execute_result",
          "data": {
            "text/plain": [
              "inf"
            ]
          },
          "metadata": {},
          "execution_count": 10
        }
      ]
    },
    {
      "cell_type": "markdown",
      "source": [
        "## Algoritmo completo"
      ],
      "metadata": {
        "id": "B9CwZm4KyiiR"
      }
    },
    {
      "cell_type": "markdown",
      "source": [
        "A continuación, mostramos el código completo."
      ],
      "metadata": {
        "id": "_NSBvNh96BqP"
      }
    },
    {
      "cell_type": "code",
      "source": [
        "sc.setCheckpointDir('./')\n",
        "\n",
        "def compare_values(tup):\n",
        "  if (tup[1]) is None:\n",
        "    return tup[0]\n",
        "  return min(tup)\n",
        "\n",
        "def get_diff(tup):\n",
        "  if tup[1][0] == float('inf') and tup[1][1] == float('inf'):\n",
        "    return 0\n",
        "  return tup[1][1] - tup[1][0]\n",
        "\n",
        "def single_source_shortest_path(nodes, edges, initial_node):\n",
        "    current_cost = nodes.map(lambda x: (x, 0 if x == initial_node else float('inf')))\n",
        "\n",
        "\n",
        "    partitions = math.ceil(nodes.count() / 1000)\n",
        "\n",
        "    stop = False\n",
        "    current_cost.checkpoint()\n",
        "\n",
        "    iter = 0\n",
        "    while not stop:\n",
        "        print(f\"At iter {iter}\")\n",
        "        messages = current_cost.join(edges, partitions).map(lambda x: (x[1][1][0], (x[1][0] + x[1][1][1])))\n",
        "        filtered_messages =  messages.filter(lambda x: x[1] != float('inf'))\n",
        "        new_cost = current_cost.leftOuterJoin(filtered_messages.reduceByKey(lambda x, y: min(x, y)), partitions).map(lambda x: (x[0], compare_values(x[1])))\n",
        "        new_cost.checkpoint()\n",
        "        max_change = new_cost.join(current_cost, partitions).map(get_diff).max()\n",
        "        if max_change == 0:\n",
        "            stop = True\n",
        "        else:\n",
        "            current_cost = new_cost\n",
        "            iter += 1\n",
        "\n",
        "    return new_cost.collect()"
      ],
      "metadata": {
        "id": "9_IYoDp_yZAX"
      },
      "execution_count": 79,
      "outputs": []
    },
    {
      "cell_type": "code",
      "source": [
        "shortest_paths = single_source_shortest_path(nodes, edges, initial_node)"
      ],
      "metadata": {
        "colab": {
          "base_uri": "https://localhost:8080/"
        },
        "id": "ArsxWn78H_T6",
        "outputId": "d5bf44f5-ed7f-461c-8cea-59458be4281c"
      },
      "execution_count": 80,
      "outputs": [
        {
          "output_type": "stream",
          "name": "stdout",
          "text": [
            "At iter 0\n",
            "At iter 1\n",
            "At iter 2\n",
            "At iter 3\n",
            "At iter 4\n",
            "At iter 5\n",
            "At iter 6\n",
            "At iter 7\n",
            "At iter 8\n",
            "At iter 9\n",
            "At iter 10\n",
            "At iter 11\n",
            "At iter 12\n",
            "At iter 13\n"
          ]
        }
      ]
    },
    {
      "cell_type": "code",
      "source": [
        "print(shortest_paths)"
      ],
      "metadata": {
        "colab": {
          "base_uri": "https://localhost:8080/"
        },
        "id": "f1jtP7zmIJnp",
        "outputId": "931478bb-184d-4d1c-d85c-0f1270cc3e85"
      },
      "execution_count": 81,
      "outputs": [
        {
          "output_type": "stream",
          "name": "stdout",
          "text": [
            "[(1105932, 10), (1114125, 4), (253971, inf), (696342, inf), (696345, inf), (16437, inf), (1138755, inf), (1130568, 4), (16461, 5), (16470, inf), (155736, inf), (16476, inf), (1130586, 4), (106590, inf), (589923, 5), (16485, inf), (114, inf), (117, inf), (270456, inf), (409725, inf), (1114239, 5), (1106052, 5), (1130634, 10), (1130637, inf), (180399, 4), (82098, 1), (1130676, inf), (1106103, 10), (1106112, inf), (245955, inf), (590022, 6), (385251, inf), (1106172, 4), (213246, inf), (229635, 1), (270600, inf), (114966, inf), (1138968, 2), (1114398, inf), (213279, inf), (288, inf), (1130808, inf), (49482, 5), (1122642, inf), (1130847, 1), (1130856, 1), (1106298, 2), (24966, inf), (1114512, 3), (147870, inf), (8619, inf), (1130931, 5), (1130934, 9), (1106370, 12), (459213, 2), (459216, 3), (33231, inf), (1106388, 5), (1106406, 3), (1114605, inf), (1106418, inf), (115188, inf), (504, inf), (8703, 7), (1114629, 4), (33303, 3), (573978, 1), (385572, 5), (8766, inf), (746058, inf), (57948, 11), (1106547, 3), (8832, 10), (1106568, 5), (1131150, 6), (1131165, inf), (8865, 1), (8874, inf), (1131180, inf), (1131189, inf), (1131192, inf), (688824, inf), (1131195, inf), (74427, inf), (1131198, 2), (148170, 1), (975567, 3), (99030, inf), (1131258, inf), (1123068, 11), (8961, inf), (1131267, inf), (1131270, inf), (90888, 5), (1131300, inf), (1131312, inf), (17208, 3), (238401, inf), (1131330, inf), (25413, inf), (1131345, inf), (1131348, inf), (246618, 2), (1131360, 1), (1114992, 9), (1123188, 7), (148341, inf), (906, inf), (1123215, inf), (1131414, inf), (91038, inf), (1131420, inf), (1123239, inf), (936, inf), (123825, 7), (74700, inf), (1131471, 10), (82920, inf), (1026, inf), (66564, inf), (1035, 3), (1131549, 3), (1115166, inf), (66594, 7), (287787, 1), (1131639, 3), (853116, inf), (50337, 6), (853155, inf), (42156, inf), (648369, inf), (74937, inf), (25791, inf), (25794, inf), (1123530, 2), (1139928, inf), (1131741, 6), (42207, inf), (1107171, 3), (574710, 2), (1272, 5), (353541, 3), (189708, inf), (689439, inf), (9513, inf), (1131828, 6), (124224, inf), (189774, inf), (1365, inf), (1123689, 10), (1107312, 4), (263553, 7), (58758, inf), (566664, inf), (124296, 6), (755082, inf), (17811, inf), (976284, 7), (66990, 7), (206259, inf), (820662, inf), (91581, 7), (509379, 5), (34257, inf), (34263, inf), (34266, inf), (9708, inf), (1140231, inf), (755217, 3), (181782, 4), (1115670, 6), (1132083, 7), (75318, inf), (1123926, 9), (1107558, inf), (640617, 1), (1107567, inf), (1115790, 7), (149139, inf), (50838, inf), (67245, 6), (157401, 5), (567018, 2), (1115886, 4), (231198, inf), (575292, 1), (124734, inf), (1140543, inf), (116553, 2), (182094, 2), (444240, 2), (231249, 1), (575331, 1), (100197, 5), (51045, inf), (59244, 8), (83826, 5), (141171, inf), (1132416, inf), (83847, inf), (1132434, inf), (1107861, inf), (1132443, 6), (1953, inf), (1956, 1), (1959, inf), (1132461, 5), (75693, inf), (608190, 2), (632796, inf), (51180, inf), (67584, inf), (141324, 2), (141342, 1), (608292, 2), (632874, inf), (84021, 1), (116790, 10), (157761, inf), (1108050, inf), (714879, inf), (18582, 1), (1116336, inf), (18615, 5), (1132731, inf), (75969, inf), (75972, 9), (633030, inf), (1108167, 6), (239829, inf), (714975, inf), (26850, inf), (190698, inf), (1108209, 5), (35061, 1), (633081, inf), (35070, inf), (1132809, inf), (1132815, 8), (395547, inf), (395553, inf), (1132857, inf), (59715, 2), (321861, inf), (18774, 10), (1132887, inf), (18777, inf), (100701, inf), (1108329, 3), (59772, inf), (739707, inf), (18834, 2), (1108389, 10), (108963, 12), (1132968, inf), (92589, inf), (1116594, inf), (133563, 6), (133566, 6), (1133004, inf), (1133010, 7), (158172, inf), (1133028, 9), (84459, 7), (1124844, inf), (649731, 6), (35343, 5), (68115, inf), (27174, 5), (428610, inf), (117315, 2), (1108551, 5), (100935, inf), (2658, inf), (27243, inf), (27246, inf), (27249, 9), (51831, inf), (51834, 7), (1133196, 1), (35490, 2), (51879, inf), (1108656, inf), (43698, inf), (240321, inf), (51909, 8), (387795, 1), (649944, inf), (633585, inf), (1108728, 8), (60159, 12), (109323, inf), (101145, 3), (682815, 2), (68463, 11), (27510, 1), (27531, inf), (11148, inf), (1125258, inf), (27543, inf), (68505, inf), (1133469, 2), (1117089, inf), (641976, 5), (592830, 10), (35778, 10), (27606, inf), (27612, inf), (27627, inf), (265203, 1), (289779, 1), (248823, 6), (3084, 2), (1125393, 6), (1125402, inf), (134199, inf), (11325, 9), (11337, inf), (166989, inf), (35922, 5), (44121, inf), (592986, 2), (93273, inf), (1125492, 2), (3192, inf), (593022, 2), (93318, inf), (3222, inf), (519318, 11), (232605, inf), (3231, 11), (3237, 12), (3240, 9), (134307, inf), (3243, inf), (134316, inf), (593091, 1), (1109199, 1), (1109208, inf), (1125597, 2), (576795, 1), (52515, 5), (1117476, 1), (167205, inf), (85299, inf), (77112, inf), (36162, inf), (683355, 7), (159084, inf), (93555, inf), (28026, inf), (232860, inf), (593328, 3), (101811, 9), (486840, 1), (175548, inf), (1109439, 8), (85449, inf), (85452, 6), (1117653, inf), (44514, inf), (470511, inf), (445938, inf), (118260, inf), (1125906, 12), (1125909, inf), (568857, 1), (642621, inf), (577086, 2), (650814, 3), (28227, 3), (28230, inf), (69198, inf), (110163, inf), (28254, 5), (1125993, inf), (28278, 3), (642681, inf), (1126011, inf), (28287, 2), (28290, 1), (593544, 2), (1117833, inf), (1126029, 4), (233106, inf), (593559, inf), (1126044, 7), (1126050, inf), (28350, 3), (28359, 4), (577227, 1), (20178, 5), (1117920, inf), (20193, inf), (28389, inf), (642798, inf), (3828, inf), (814836, inf), (167670, 10), (1134348, inf), (28473, 5), (446271, 6), (28485, 3), (28491, inf), (642894, inf), (642930, inf), (28542, inf), (12165, inf), (626574, inf), (126867, inf), (12195, inf), (12198, inf), (675756, inf), (12210, inf), (126909, inf), (126912, inf), (593859, 2), (954315, 6), (1126350, inf), (126927, inf), (28632, inf), (28641, inf), (815073, inf), (733167, inf), (1110000, inf), (77826, inf), (28674, inf), (249858, inf), (77829, inf), (1110024, inf), (634902, 1), (12330, inf), (20526, 3), (634938, 1), (503871, 2), (503877, 3), (503883, 1), (1118286, inf), (1126503, inf), (20592, inf), (594039, inf), (20601, inf), (45189, inf), (446610, inf), (643221, inf), (159897, 12), (241821, inf), (643239, inf), (397488, inf), (28851, 1), (1118388, inf), (94416, inf), (4329, inf), (4335, inf), (430329, inf), (1061127, 5), (12558, 2), (397590, inf), (12576, 1), (143676, inf), (340299, inf), (627024, 11), (708945, inf), (684372, inf), (192870, inf), (20850, 11), (1110390, inf), (315789, inf), (1110426, 5), (643485, inf), (1110438, 9), (561582, inf), (94641, 2), (1118658, 11), (307656, inf), (594387, 2), (102879, inf), (4584, inf), (684531, inf), (709113, inf), (94713, inf), (1110531, 4), (1110546, 2), (1135122, inf), (1135125, 6), (102939, inf), (1135137, inf), (45603, inf), (1110579, 4), (594483, inf), (1102407, inf), (389715, 9), (135765, inf), (1118823, inf), (594543, 1), (643695, inf), (135798, inf), (561789, inf), (70281, inf), (643734, inf), (12960, inf), (152226, 5), (250566, inf), (1102548, inf), (78549, 4), (78552, 4), (78555, inf), (94953, inf), (1110768, inf), (267003, 4), (1135368, inf), (4878, inf), (578337, inf), (62274, inf), (193347, inf), (1135455, inf), (1119078, 8), (54129, 1), (54132, inf), (4983, inf), (709518, inf), (13212, inf), (119712, inf), (1102761, 9), (684972, inf), (5055, inf), (5064, inf), (1102794, inf), (1119180, inf), (242637, inf), (144330, 7), (594900, 1), (13269, 7), (1119216, inf), (37884, 8), (1127430, 1), (308232, 8), (144408, inf), (103482, 1), (1152075, inf), (578646, 2), (578649, 2), (103515, 1), (37998, 6), (595056, 2), (1127541, inf), (1135746, inf), (62607, inf), (1152150, 7), (1152162, 6), (513189, 1), (1103016, inf), (62634, 3), (1103031, inf), (1111230, 3), (1127619, 5), (734406, inf), (128202, inf), (62676, inf), (120039, 7), (644334, inf), (1119471, inf), (62718, 2), (644361, inf), (120084, inf), (1135899, inf), (308529, 2), (38205, 1), (87363, 2), (644427, inf), (5454, inf), (578898, 3), (13656, inf), (46431, 1), (644448, inf), (95586, 4), (95589, 4), (46452, inf), (13686, 4), (87417, inf), (284025, inf), (210309, inf), (46470, inf), (46476, inf), (193932, 7), (226698, inf), (46491, inf), (46500, 10), (1119654, inf), (1136040, inf), (46536, 3), (136665, inf), (1119708, 1), (644577, inf), (1153896, 3), (95718, inf), (153063, inf), (1127913, 1), (1103394, 9), (579108, inf), (390693, inf), (1152564, inf), (218682, 3), (1111614, inf), (136767, inf), (13917, 7), (259701, 1), (1152633, 4), (1103499, inf), (1152663, 4), (964248, 10), (194223, 6), (1136310, inf), (325314, inf), (1152711, inf), (1152714, 7), (628458, inf), (1111788, 8), (145134, inf), (390894, 6), (1119987, inf), (1103610, inf), (1128198, 3), (1128204, 1), (1136397, inf), (1128201, 2), (628500, 4), (1120020, 3), (767763, inf), (145176, inf), (243483, 2), (46887, inf), (1136442, inf), (1120059, inf), (1103676, 6), (145215, 7), (177993, inf), (1128267, 3), (1095507, 12), (1152858, inf), (1111899, 2), (1128291, 2), (227178, 3), (87915, inf), (22386, inf), (325497, 4), (423816, inf), (22431, 6), (1120170, 3), (137130, inf), (38829, 4), (1128369, 3), (948147, inf), (628668, 3), (79809, 9), (1120197, inf), (1152975, 11), (612306, inf), (227286, 6), (645084, inf), (399339, 3), (686061, 6), (63477, 12), (1153014, inf), (1136631, inf), (1136634, inf), (63486, 4), (1128453, 1), (899085, inf), (129042, inf), (129045, inf), (260121, inf), (628764, 4), (1153056, 5), (178209, 8), (22563, 8), (22566, 9), (1153065, 1), (1112106, inf), (71736, inf), (63549, inf), (6210, 3), (6213, 2), (735303, 1), (6216, inf), (1153101, 2), (628815, 3), (1128531, 8), (14430, inf), (1103979, inf), (350319, inf), (1103985, 1), (235683, inf), (350373, 10), (1136814, 1), (1120431, 1), (6318, inf), (14529, inf), (989397, inf), (39126, 12), (71904, inf), (1153254, 5), (6378, 4), (1153275, 10), (39165, inf), (1112319, 7), (235776, 9), (1153287, inf), (162075, inf), (88356, 13), (39210, 7), (1120563, inf), (653628, inf), (22869, 3), (22875, inf), (31083, inf), (1104258, inf), (1104261, inf), (1120650, 5), (1128846, inf), (293271, 3), (563613, inf), (154023, inf), (63915, 9), (1104300, inf), (154047, inf), (686532, inf), (1120713, inf), (358866, 10), (55770, inf), (1120731, 4), (686559, inf), (1128927, inf), (358884, inf), (358887, inf), (6639, 7), (1128945, 1), (1112574, inf), (1128975, 2), (1128978, 2), (129558, inf), (154134, 3), (23070, inf), (1128990, 2), (39474, 2), (1104435, inf), (137790, inf), (47682, inf), (907845, inf), (195150, 9), (6741, inf), (105057, 10), (1120866, inf), (948846, inf), (1104495, inf), (6771, 9), (31353, inf), (6786, inf), (137868, inf), (359067, inf), (55968, 3), (1153728, 5), (1120962, 6), (662250, inf), (645870, inf), (31479, inf), (645897, inf), (277263, inf), (6939, 5), (56112, 2), (56115, 3), (1153860, 2), (1153866, 8), (1063773, inf), (654177, 7), (129897, 8), (1071981, 2), (1153899, 3), (260979, inf), (7032, 8), (990075, inf), (187260, inf), (203646, inf), (7041, inf), (7047, inf), (531348, inf), (23448, 8), (531351, inf), (1129368, inf), (211875, 6), (48066, inf), (48075, inf), (23502, 5), (1129443, inf), (400356, inf), (285675, 6), (621555, inf), (285687, inf), (1113084, inf), (654339, 6), (375825, inf), (1129494, inf), (1154076, 2), (1121313, inf), (1129518, inf), (1154103, 7), (15429, inf), (400455, inf), (1154124, 5), (400473, inf), (97377, 8), (1129572, 5), (1104999, 2), (7272, inf), (1105011, inf), (31863, 8), (1154169, 5), (7296, inf), (212097, inf), (1129608, inf), (294030, inf), (1129629, 2), (1105062, inf), (1154229, inf), (1154232, inf), (654519, inf), (31932, inf), (40125, inf), (40131, inf), (416964, inf), (195792, 3), (1129683, 1), (171225, 7), (1105116, 6), (294126, inf), (466170, inf), (7419, 3), (310530, inf), (646440, inf), (449841, 6), (408885, inf), (1105221, 2), (671052, inf), (1113438, 1), (1113459, 3), (310653, 12), (884094, inf), (56709, 2), (73119, inf), (48555, inf), (73146, 9), (1113534, inf), (1105344, inf), (89547, inf), (1121739, 6), (703953, inf), (1154520, inf), (179706, inf), (114189, inf), (1105428, 8), (73323, inf), (15984, inf), (753264, inf), (15987, inf), (1105530, inf), (228990, inf), (48768, inf), (16008, inf), (155277, inf), (646809, 1), (40605, inf), (646836, 2), (458439, inf), (1113828, inf), (1113831, 1), (1113852, inf), (1105698, inf), (286500, 1), (950052, inf), (81714, 2), (1105764, 3), (335733, 1), (278394, inf), (376704, inf), (278403, inf), (8079, 10), (32688, inf), (237489, inf), (171954, inf), (1130454, inf), (1105887, 6), (917493, inf), (1122304, inf), (1155073, 6), (851968, inf), (696343, inf), (696346, inf), (8224, 7), (950305, inf), (630817, inf), (40, 2), (1114153, inf), (1130539, 2), (131122, inf), (180301, inf), (1114192, inf), (16471, inf), (16474, inf), (573535, inf), (32872, 4), (1114222, 7), (573553, inf), (65650, 9), (65653, 6), (221302, inf), (130, 4), (180373, 3), (1122460, inf), (1130653, inf), (82087, 2), (82090, 2), (1130680, inf), (1114336, inf), (631015, inf), (73972, inf), (33013, 3), (647413, 2), (131317, inf), (1122574, inf), (1122580, inf), (1106236, 5), (672064, 3), (672070, 6), (1106287, 6), (8581, inf), (205192, inf), (98698, 1), (424, inf), (8617, inf), (1130929, inf), (16819, inf), (467383, inf), (16843, inf), (459214, 2), (463, inf), (139738, inf), (1106401, inf), (582139, inf), (49660, 12), (573964, 1), (238099, 11), (33301, inf), (90655, inf), (33325, inf), (49720, inf), (574009, 1), (57922, 11), (1000012, 5), (49753, inf), (8821, 8), (33412, 5), (1114777, 11), (1131163, inf), (123556, inf), (1131172, inf), (8872, inf), (8875, 2), (1131184, inf), (49843, 5), (582343, 5), (950986, 4), (582349, inf), (99025, inf), (688849, inf), (1131223, inf), (140005, inf), (82666, inf), (1106671, 6), (1114864, 9), (107251, 9), (1131274, inf), (1131277, inf), (1123087, 4), (1123093, 7), (1131301, inf), (574264, 1), (1131334, inf), (197452, inf), (1106764, inf), (17242, inf), (582511, 5), (910, inf), (1131421, inf), (754594, inf), (1106854, inf), (648106, inf), (940, inf), (943, inf), (148399, inf), (648112, inf), (648121, inf), (74698, inf), (254923, 1), (1131466, 10), (943087, inf), (66556, 1), (74749, inf), (574462, 1), (689152, 9), (1033, 1), (33823, inf), (1131550, 3), (648232, inf), (1131565, 3), (107569, inf), (1107010, 5), (17476, 2), (74821, inf), (17488, inf), (58453, inf), (1131607, inf), (312409, inf), (25702, inf), (33895, inf), (33904, 1), (1131634, 2), (33907, 1), (1107067, 6), (853114, inf), (763009, inf), (189571, inf), (189574, 9), (189577, 5), (853150, inf), (591016, 5), (74920, inf), (58540, 3), (58552, inf), (1213, inf), (1107136, inf), (66751, inf), (1237, inf), (189655, inf), (566488, inf), (1246, inf), (1131745, inf), (1131748, 5), (1131754, inf), (66805, 1), (1123576, inf), (345340, 4), (140569, 6), (189721, inf), (509233, 2), (263482, inf), (1140040, inf), (9559, inf), (9586, 2), (75121, 5), (1107319, inf), (566653, inf), (1107325, 9), (1107355, 3), (17821, inf), (189856, inf), (66982, 6), (1107367, 5), (1123756, 1), (1107385, inf), (1107418, 3), (714208, inf), (230884, inf), (321004, inf), (83449, 2), (83461, 5), (34315, inf), (714256, inf), (1123867, 6), (1115677, 9), (206371, 1), (714289, inf), (1115701, inf), (1140289, 5), (427606, 1), (575077, 1), (255628, inf), (583318, 3), (67246, 6), (1717, inf), (206524, inf), (370366, inf), (91852, 4), (354004, inf), (1786, 9), (1132285, inf), (83725, 2), (116512, inf), (83746, inf), (50980, inf), (173863, inf), (1115959, inf), (173884, 8), (116545, inf), (1140547, 6), (91975, 3), (42847, 7), (1107808, inf), (141160, inf), (51049, inf), (51052, inf), (18313, inf), (616336, inf), (34708, 6), (124828, inf), (1951, inf), (92065, 5), (1132459, inf), (75691, inf), (75694, inf), (10174, inf), (608191, 2), (10177, inf), (1132486, inf), (10183, inf), (10186, inf), (1999, inf), (714748, inf), (1116181, 3), (67633, inf), (1050679, 1), (608326, 1), (18532, inf), (632935, inf), (1116268, 11), (346243, 10), (43165, inf), (1116328, inf), (43186, inf), (239800, inf), (18619, inf), (10435, 9), (633031, inf), (59626, inf), (1116397, 5), (1108258, inf), (10531, inf), (1108267, 3), (280876, inf), (248119, inf), (1132864, inf), (919885, 5), (174418, inf), (18781, inf), (756061, inf), (264556, inf), (18811, inf), (2440, 4), (1108363, inf), (18832, inf), (158098, inf), (1132948, inf), (379288, inf), (854434, inf), (330148, 7), (362926, inf), (133567, inf), (395725, inf), (1133008, inf), (330208, inf), (739816, inf), (133615, 8), (1133047, 2), (469504, inf), (35335, inf), (166420, inf), (141868, 7), (10798, inf), (27199, inf), (117316, 2), (248395, inf), (117328, inf), (1108570, inf), (2653, inf), (19045, 2), (248425, 1), (2665, inf), (27241, inf), (248431, inf), (27250, 9), (1108597, inf), (43639, inf), (68224, inf), (2695, inf), (2698, inf), (1116835, inf), (682666, 3), (559804, inf), (1125082, 5), (51934, inf), (10981, 4), (568045, 8), (1116922, 6), (510715, inf), (510718, inf), (60169, 11), (101143, 2), (1133338, 1), (19231, inf), (52000, inf), (52003, inf), (1108834, 5), (1133428, inf), (633721, inf), (27514, 2), (27535, 8), (101263, inf), (158614, inf), (641956, inf), (166825, inf), (191404, inf), (35797, 10), (27631, 4), (134128, 2), (44017, inf), (289780, 1), (3085, inf), (35854, inf), (35863, 3), (1109017, 3), (3097, inf), (1117219, 7), (3112, inf), (11326, inf), (35905, 8), (1117249, inf), (11335, inf), (592975, 2), (1125469, 9), (289885, inf), (158812, inf), (592993, inf), (592996, inf), (617575, inf), (928873, 11), (3187, inf), (396412, 5), (3217, inf), (3220, 9), (3223, inf), (289945, inf), (3229, 4), (3232, inf), (232606, inf), (3235, inf), (1117348, inf), (19621, inf), (593068, 3), (134314, inf), (134320, inf), (576691, 2), (175291, 1), (1109185, inf), (593104, inf), (27895, inf), (593155, 3), (60682, inf), (101662, 9), (36145, inf), (593209, inf), (1117501, 8), (85324, inf), (44368, 1), (593248, 2), (593260, 1), (159085, inf), (601462, inf), (683404, 8), (1109392, 5), (44455, 2), (593329, 3), (1117618, 3), (380341, inf), (1134022, 2), (576973, inf), (1134031, inf), (175576, inf), (601561, inf), (208345, 10), (110041, inf), (601567, 3), (1125895, 5), (552469, 6), (273949, 8), (1109542, 8), (323128, 9), (1109566, inf), (249421, 1), (1109581, 4), (110164, inf), (28249, inf), (1117786, 5), (28267, inf), (1126012, inf), (61069, 2), (593560, inf), (118435, inf), (102061, inf), (28336, 2), (77515, inf), (20179, inf), (429781, 7), (28387, 4), (167656, inf), (429805, 8), (1117942, 3), (1134346, inf), (69397, 9), (118558, inf), (28447, 4), (642847, inf), (175909, inf), (28456, 2), (69418, inf), (216877, inf), (28471, 3), (675649, inf), (1118017, 6), (1109830, inf), (307015, 1), (126793, inf), (28489, inf), (28504, inf), (626530, inf), (61312, inf), (1118083, inf), (12169, inf), (1118092, 4), (126868, inf), (12199, inf), (1126315, inf), (12211, inf), (643003, inf), (77758, inf), (36802, inf), (12238, inf), (12247, inf), (135130, 1), (143323, inf), (61417, inf), (45052, inf), (643069, inf), (1118209, inf), (102406, 7), (675847, 5), (45061, inf), (1110028, inf), (1118245, 4), (12337, inf), (127033, 2), (282700, inf), (503893, 1), (561238, 1), (118873, inf), (1118302, 2), (634975, 1), (20584, inf), (594025, 5), (340075, 6), (340078, 10), (20593, 6), (143476, inf), (20602, inf), (1118332, 6), (372862, 7), (307336, inf), (1118347, 6), (12439, 9), (151708, inf), (299197, 2), (258259, inf), (561364, inf), (4330, inf), (1110256, inf), (1134865, inf), (520471, 6), (28957, inf), (192850, 7), (20821, inf), (86359, 1), (12631, inf), (733534, inf), (20833, inf), (20857, 6), (733576, inf), (561568, inf), (94639, inf), (20920, inf), (20923, inf), (561595, inf), (561610, inf), (561613, inf), (1110520, inf), (1135108, inf), (643597, inf), (1118764, 9), (4660, 6), (594511, inf), (184918, 6), (135766, inf), (1110628, inf), (37483, 3), (430711, inf), (1118848, inf), (12946, inf), (643735, inf), (152227, inf), (78508, inf), (78511, 1), (643777, inf), (4804, inf), (594649, 1), (13024, inf), (1102567, inf), (1135345, inf), (217852, 4), (529165, inf), (447250, 5), (1119004, inf), (70441, 5), (578347, inf), (70444, inf), (578365, inf), (193354, inf), (545647, 5), (62329, 2), (217984, 6), (119686, inf), (62347, 5), (13195, inf), (86923, inf), (13213, inf), (5038, 7), (62389, 8), (824245, inf), (160705, inf), (5062, inf), (562123, 7), (1119178, inf), (463825, 6), (119761, inf), (95188, 3), (177115, inf), (160732, inf), (5086, inf), (1119211, inf), (37879, inf), (168958, inf), (37888, inf), (1102873, 5), (521251, 11), (521269, inf), (259126, 12), (111676, inf), (1119295, 5), (5194, inf), (578650, inf), (431206, 7), (103528, inf), (1127530, inf), (103531, 4), (103537, inf), (103543, inf), (595063, 2), (1127551, inf), (1135750, inf), (1127566, inf), (78994, inf), (1111186, inf), (119956, inf), (152731, 6), (1103038, inf), (341188, 4), (1111240, 7), (128203, inf), (120013, inf), (1152244, 4), (1152259, inf), (1119505, 1), (1152277, 4), (54550, inf), (1135894, inf), (578845, inf), (144679, 4), (218410, 3), (1152307, 11), (169279, 7), (13654, inf), (1152358, inf), (284023, inf), (644470, inf), (1152379, inf), (193918, inf), (128383, 11), (46468, inf), (1127812, 2), (1152394, inf), (644494, inf), (13717, 5), (1152421, 1), (46501, inf), (1127851, 6), (1152436, inf), (1127863, 6), (1152448, 11), (161221, 2), (112099, inf), (95719, inf), (1152490, 8), (1136110, inf), (1152508, 1), (1119742, inf), (1119751, inf), (1103383, 3), (423463, inf), (54844, inf), (13885, 6), (136768, 5), (243274, inf), (636511, inf), (259702, 1), (13960, 3), (13966, inf), (13972, inf), (1152673, 4), (1152676, 3), (308920, inf), (1128151, 2), (390889, 8), (628459, inf), (5869, inf), (14062, inf), (112378, 6), (14083, inf), (390922, 5), (1128208, inf), (202522, inf), (1136422, 4), (751408, inf), (1136446, 8), (1128256, 6), (38722, inf), (1136449, 8), (5959, 4), (1120084, 5), (1152859, inf), (1103737, 7), (1128319, 2), (1152904, 6), (1120138, 3), (1152910, inf), (202639, inf), (645016, inf), (145315, inf), (1111978, inf), (645046, inf), (210871, 1), (38839, inf), (38845, inf), (1152958, inf), (415693, 1), (1112026, 9), (1152991, inf), (645088, inf), (145384, inf), (1153003, inf), (1128430, 10), (120817, inf), (6130, 4), (1120252, inf), (153598, 3), (1153024, inf), (6151, 2), (399370, 11), (1112071, inf), (6163, 3), (6169, 4), (22564, 9), (6184, 3), (899119, inf), (6196, 4), (194617, inf), (6214, 3), (6220, 3), (6217, 3), (14428, inf), (6238, inf), (14431, inf), (30817, inf), (1153150, 2), (1112194, inf), (1104007, inf), (137359, inf), (1136791, 2), (628888, inf), (350362, inf), (235678, inf), (1153183, inf), (1104031, 3), (137380, inf), (1153195, inf), (112813, inf), (30895, 3), (30901, 4), (1104055, 10), (1120444, 5), (6334, 10), (6343, inf), (6346, inf), (14545, inf), (39124, 10), (30934, inf), (39127, inf), (39130, 9), (1153264, inf), (6385, inf), (30973, inf), (39199, 6), (334153, 2), (63832, 2), (22876, 4), (63835, 3), (170338, 3), (31105, inf), (1128853, inf), (1128856, 6), (1128868, 5), (63931, 4), (645571, inf), (694759, 1), (211432, 7), (39403, 4), (358894, 8), (440815, inf), (1128946, 3), (1128943, 2), (55801, 11), (1104379, 7), (1120777, inf), (1120786, inf), (1128982, 2), (1128985, 1), (1128997, 2), (1129015, 3), (1129018, 1), (1129021, inf), (1129027, 1), (47683, inf), (1112650, inf), (23116, inf), (96847, 4), (1112665, inf), (1120858, inf), (424540, inf), (31336, inf), (80491, inf), (1112686, inf), (817774, inf), (6775, inf), (6784, inf), (80515, inf), (1129096, 3), (1129111, inf), (6814, inf), (1112767, 5), (416455, 2), (367312, inf), (72406, inf), (47839, inf), (137956, inf), (15076, inf), (318187, inf), (6898, inf), (1153786, inf), (31483, inf), (6910, 6), (6913, inf), (31489, inf), (6925, 10), (80656, inf), (342802, inf), (1153816, 2), (1129243, 3), (195361, 3), (252715, inf), (56119, 1), (1137466, 1), (1153861, 8), (219976, inf), (1112911, 1), (1153879, inf), (1112929, 4), (1153891, inf), (56167, inf), (162664, inf), (1153897, 2), (1153900, 3), (1104769, inf), (1153933, inf), (662416, 7), (1104787, inf), (1153942, 2), (1153945, 3), (1121176, inf), (1129369, inf), (711598, inf), (261040, inf), (121792, inf), (211906, inf), (187354, 6), (39904, inf), (1121254, 8), (695284, inf), (23545, 6), (64519, 2), (1154068, 6), (1154071, inf), (1154074, inf), (662572, 8), (1104946, inf), (646195, inf), (949318, inf), (293974, 8), (1129570, 2), (1129573, 1), (72805, inf), (7276, 7), (97390, inf), (1121398, 2), (1154173, inf), (1154176, 1), (7297, 6), (1105033, 2), (212107, inf), (1129621, inf), (1154230, inf), (31927, inf), (1154233, inf), (40135, inf), (1154251, 4), (646357, inf), (89308, inf), (89335, 8), (294145, inf), (220420, inf), (7432, 4), (1121569, inf), (15670, 1), (711994, inf), (1129798, inf), (89416, inf), (1105231, inf), (32083, inf), (1138027, inf), (97645, 1), (7537, inf), (1121659, 10), (105856, 7), (105865, inf), (48550, 5), (753070, inf), (1154500, inf), (1113541, inf), (73162, inf), (1105360, inf), (302545, inf), (1154524, inf), (24043, inf), (32260, inf), (15889, inf), (15892, inf), (155158, inf), (671269, 5), (1105450, 7), (65074, inf), (671293, inf), (360028, inf), (1130080, inf), (73327, 4), (753265, inf), (1105531, 8), (48766, 1), (1113739, 4), (48781, inf), (1113742, 2), (409255, inf), (646837, 1), (7867, inf), (65212, inf), (1105603, 6), (646900, inf), (270085, inf), (1105672, inf), (368431, 8), (286513, inf), (237376, inf), (253762, inf), (1113934, 3), (1130356, inf), (1105810, 5), (32698, inf), (180187, inf), (262108, inf), (368605, inf), (1114118, inf), (368657, inf), (8213, inf), (35, 0), (262178, inf), (385067, inf), (131117, inf), (188471, 4), (16451, inf), (1130567, 3), (1114184, inf), (155738, inf), (1130600, 4), (630890, inf), (1122425, 3), (128, 3), (647315, inf), (1130657, inf), (164, inf), (1130678, inf), (1114331, 1), (688361, 6), (647408, 1), (1114352, inf), (131315, 8), (131318, inf), (1114364, inf), (41216, inf), (631052, 6), (606479, inf), (1114388, 2), (647447, 1), (1138970, inf), (139547, inf), (1130780, inf), (1139009, inf), (672071, 6), (1114442, 3), (90470, inf), (1114502, 2), (98693, inf), (205196, 3), (24974, inf), (8591, inf), (1122704, inf), (8594, inf), (1106330, 11), (1114526, 11), (1130915, 5), (57764, 10), (57773, inf), (1130927, 5), (434, 3), (606647, 2), (197054, 1), (459206, inf), (41417, 10), (377303, 4), (8687, inf), (8696, inf), (506, inf), (8699, 3), (1139195, inf), (1114664, inf), (1106492, 10), (787016, 1), (57932, inf), (139865, inf), (25181, 5), (25184, 5), (1131116, 1), (1106546, inf), (1131137, 10), (1131149, inf), (49811, 5), (1131164, inf), (1131167, inf), (107177, inf), (656048, 5), (328370, 12), (49844, 5), (49847, 5), (41666, inf), (1106630, inf), (99023, inf), (1114838, inf), (1131230, inf), (1131236, inf), (49895, inf), (82664, inf), (41714, 1), (107252, 9), (1131257, inf), (1131266, inf), (41732, inf), (1131305, inf), (17201, inf), (1131314, inf), (1131335, inf), (1106771, inf), (1131359, 3), (1106789, inf), (656231, 3), (1131374, 2), (887, 1), (230300, inf), (58268, inf), (263069, inf), (1106849, inf), (941, inf), (1131464, 7), (17363, inf), (66563, 1), (1034, 2), (164885, inf), (1106966, 3), (33818, 3), (66596, inf), (1131557, 1), (17477, 2), (58436, inf), (58454, inf), (1131611, 2), (1107041, inf), (762980, 8), (263279, 1), (1107062, 2), (156794, inf), (189566, inf), (1131647, 5), (853115, inf), (763010, 7), (189572, inf), (853118, inf), (1107095, 5), (197783, inf), (1115291, inf), (124064, 3), (50336, 6), (1123493, inf), (591017, 5), (74921, inf), (25772, inf), (50354, inf), (189620, 11), (189623, inf), (1107140, inf), (1131719, inf), (50381, inf), (25805, inf), (1131728, 7), (1131734, 2), (66782, inf), (1123553, 3), (42209, inf), (74975, inf), (1131752, 1), (66794, inf), (42221, inf), (1115375, inf), (66809, inf), (255233, 3), (1107215, 5), (34082, inf), (9515, inf), (763181, 7), (156977, inf), (116021, inf), (263486, 2), (1115456, 7), (263498, 1), (1115471, 7), (1385, 3), (288107, inf), (9581, inf), (116081, inf), (116084, 8), (116087, 9), (411005, 9), (509315, 2), (17798, inf), (66986, 8), (820661, inf), (214472, inf), (1481, inf), (976334, 2), (411092, 9), (230879, inf), (9716, inf), (1107455, 3), (1140230, inf), (108047, 2), (714260, inf), (1132073, inf), (34355, inf), (1107572, inf), (50807, inf), (1132157, inf), (738941, inf), (1123991, inf), (1688, 1), (1694, 2), (59045, inf), (779960, inf), (132806, 1), (91853, 6), (132821, inf), (1107674, 2), (67292, inf), (567005, 3), (1107728, inf), (1817, 2), (444191, 5), (198443, 1), (116528, inf), (395075, 2), (1140548, inf), (116552, 1), (18251, 5), (182093, inf), (67415, inf), (911198, 12), (42848, inf), (1132385, inf), (337766, inf), (1132406, inf), (1919, 11), (1132418, 5), (1116044, inf), (75674, inf), (1949, inf), (1952, inf), (1955, inf), (575402, 2), (75695, inf), (10169, inf), (1997, 7), (739280, inf), (272345, inf), (1132505, 6), (1116146, inf), (198653, 1), (124952, inf), (141347, 1), (84020, 9), (18536, inf), (256106, inf), (157805, 6), (34961, 9), (264347, inf), (1132706, 10), (34979, inf), (149669, 4), (346292, inf), (1116347, 3), (10430, inf), (239810, inf), (1108169, inf), (1108175, inf), (75983, inf), (198866, inf), (190697, 1), (190706, 1), (1116410, 3), (395540, inf), (141596, inf), (2354, inf), (575795, 2), (289085, 8), (289088, inf), (272720, 7), (18770, inf), (18773, inf), (174425, inf), (18785, inf), (1116530, inf), (1132922, inf), (18812, inf), (18815, inf), (18833, 3), (59798, inf), (1116569, inf), (108962, 11), (133550, 5), (108974, inf), (133553, inf), (108983, 11), (1116629, 11), (1124837, inf), (133628, inf), (649730, 8), (649739, 8), (682508, inf), (207395, inf), (10793, inf), (10796, 2), (436796, inf), (27203, inf), (27230, 5), (2654, inf), (100961, 11), (2663, inf), (2696, inf), (2702, inf), (51866, 8), (1116839, inf), (1116842, inf), (84695, inf), (1125092, 2), (191216, inf), (191222, inf), (273152, 1), (576257, inf), (60170, 11), (52007, inf), (502574, 8), (1116974, inf), (1133390, inf), (11093, inf), (215912, inf), (1133417, 12), (1108841, inf), (576362, inf), (1117049, inf), (27530, inf), (101261, inf), (68495, inf), (199571, inf), (617378, inf), (134060, 4), (592826, inf), (142268, inf), (27623, inf), (27632, inf), (289781, 1), (1117184, inf), (1125386, 1), (35852, inf), (3095, inf), (3101, inf), (11339, inf), (134219, inf), (592973, 1), (11342, 8), (1125467, 7), (314459, inf), (1059953, inf), (3191, inf), (93320, 3), (60560, inf), (3218, inf), (240791, 2), (175256, inf), (3233, 6), (3236, inf), (593060, 2), (134315, inf), (126128, inf), (519353, inf), (593105, 1), (576725, 1), (19697, inf), (1133846, inf), (101660, 11), (683294, inf), (36131, inf), (36140, 9), (593201, inf), (77108, inf), (593210, 2), (118079, inf), (36167, inf), (593240, 1), (683360, inf), (85352, 1), (1133930, inf), (1134056, inf), (241133, 3), (118259, inf), (642593, inf), (28202, 3), (52784, 2), (650807, inf), (1125944, inf), (93755, inf), (1117760, 3), (1125953, 7), (642641, inf), (110162, inf), (650834, 2), (52835, 6), (1125992, 10), (28265, inf), (421481, inf), (52847, 9), (1134197, inf), (77438, inf), (61073, inf), (1126037, 5), (118424, inf), (69284, 1), (118436, inf), (69296, 1), (85688, 6), (20180, inf), (28385, inf), (93923, 6), (1134320, inf), (28412, inf), (642827, inf), (36620, 10), (69392, inf), (118559, 5), (200480, 11), (560936, 6), (216878, inf), (577331, 2), (28487, inf), (3932, inf), (184157, 4), (626531, inf), (642920, inf), (1109873, inf), (12155, inf), (12158, inf), (315266, inf), (1109891, 6), (151430, 5), (593813, 1), (12182, inf), (118682, inf), (12194, inf), (12197, inf), (1118120, inf), (200630, inf), (1109957, 3), (126920, inf), (126926, inf), (28640, inf), (28649, inf), (12275, inf), (815096, 2), (593921, 2), (94229, 9), (593942, 2), (634904, 1), (217115, inf), (20528, 5), (217139, inf), (987188, inf), (20534, 3), (12347, inf), (987197, inf), (12350, inf), (12359, inf), (594011, inf), (594047, 1), (643199, 2), (45188, inf), (348305, inf), (782486, inf), (45212, inf), (4274, inf), (299195, 2), (1110209, inf), (594119, inf), (192734, 6), (610529, inf), (86258, inf), (348437, 6), (28964, inf), (135464, inf), (626999, inf), (1118546, inf), (12638, inf), (168332, inf), (561581, inf), (143801, inf), (561593, inf), (20924, inf), (4553, inf), (561611, inf), (20942, 3), (168410, 4), (45533, inf), (1110494, inf), (102884, inf), (1135082, inf), (20972, 2), (430574, inf), (1110515, 2), (561674, inf), (1135115, inf), (102938, inf), (1102364, inf), (4637, inf), (45599, 1), (1110563, inf), (45605, 2), (4649, inf), (1102400, 6), (1102442, 8), (561809, inf), (152219, inf), (37541, inf), (53942, inf), (1102550, 3), (78557, 4), (365294, inf), (447224, inf), (1135358, 3), (578306, inf), (578309, inf), (1102625, 5), (308003, 6), (70442, 4), (29492, inf), (1102646, 8), (86840, inf), (193352, inf), (13136, inf), (144212, 2), (54131, 1), (70520, inf), (62333, 6), (13193, 3), (562067, inf), (13205, inf), (693143, inf), (13208, inf), (1102751, 4), (152483, 2), (1119140, 2), (1110947, 3), (1110950, inf), (684986, inf), (127940, inf), (5069, inf), (62417, inf), (5075, inf), (1110998, 2), (95198, inf), (521183, inf), (1135589, inf), (242663, inf), (521207, inf), (95225, inf), (644093, inf), (46079, 1), (1102850, inf), (103430, inf), (1111052, 3), (29708, inf), (29723, 7), (521252, 10), (300071, 8), (29738, inf), (578645, 2), (103529, inf), (578669, 2), (38000, 6), (1127558, inf), (1152143, 2), (111770, inf), (1152179, inf), (1152194, inf), (636098, 6), (95435, 4), (193742, 3), (595157, 2), (578780, 1), (1111265, inf), (5348, inf), (1127657, inf), (595193, 3), (111866, inf), (1111304, 2), (644363, inf), (1152272, 6), (1152290, 7), (1152308, inf), (1103162, 3), (70970, 2), (144701, 2), (169280, inf), (1135955, inf), (13652, inf), (5462, inf), (644441, inf), (13658, inf), (95579, 4), (95588, inf), (95594, inf), (95597, inf), (1127810, 4), (1119623, inf), (193931, 6), (95642, inf), (292277, inf), (1119671, inf), (87482, inf), (579008, 1), (1103315, 3), (46547, inf), (5600, inf), (128540, 1), (218666, inf), (267824, inf), (1152569, 2), (136766, 5), (38480, 3), (636500, inf), (521855, inf), (38537, inf), (13982, inf), (71336, inf), (1111733, 10), (259772, inf), (22229, 2), (1136342, 3), (22241, 3), (1152740, 2), (390896, 6), (644843, inf), (1152761, 2), (562940, inf), (284414, 6), (300806, 6), (1136393, inf), (14090, inf), (1120019, inf), (202520, inf), (1128227, 1), (1120049, 7), (481073, 5), (1152821, inf), (1136447, 8), (399173, inf), (5966, inf), (177998, inf), (251756, 3), (38771, inf), (1128314, 1), (1152896, 2), (1152917, inf), (1120169, 7), (604073, inf), (1152944, 2), (210872, inf), (628667, 3), (38846, inf), (686015, 6), (1152959, inf), (79817, 10), (686030, inf), (1120211, inf), (1128407, inf), (1128425, 8), (6125, inf), (1128437, 6), (6152, 3), (1153031, inf), (6155, 3), (1112075, inf), (628751, 4), (6170, inf), (628766, 4), (1112099, inf), (1153064, 9), (194609, inf), (6209, inf), (1153091, inf), (6215, 2), (1153097, inf), (948299, 5), (96335, 5), (6224, 3), (1153106, inf), (219218, inf), (194645, 5), (735311, 2), (1103960, 1), (1128536, 12), (14429, inf), (1103969, inf), (1128542, inf), (522338, inf), (219239, inf), (55403, 8), (596075, 3), (1153148, 3), (653441, inf), (1153160, inf), (1153166, 5), (1153169, 11), (112787, inf), (235670, inf), (235679, inf), (6311, 8), (14531, inf), (6344, inf), (14549, inf), (39131, 10), (309476, 10), (1153262, 4), (1153280, 1), (129287, inf), (162080, inf), (1112369, 6), (22835, inf), (1104182, 4), (219446, inf), (1104191, inf), (31043, 7), (63812, inf), (645452, inf), (31055, inf), (22874, 3), (1112417, inf), (22883, 9), (22886, inf), (1112426, inf), (72056, inf), (31097, 3), (1120643, inf), (1128839, 5), (104840, 4), (6539, 7), (801170, 1), (72101, 5), (293285, 4), (1128881, inf), (47570, inf), (14807, inf), (1128935, 10), (1137140, inf), (1128959, 1), (1128974, 4), (1128977, 3), (23069, inf), (178718, inf), (178727, 1), (1153577, 1), (1104449, inf), (47684, inf), (96845, 2), (1129040, inf), (96851, inf), (6767, 9), (1120880, inf), (31349, inf), (318071, inf), (137849, inf), (6782, inf), (137873, 9), (1129106, inf), (1112723, inf), (6818, 7), (1153703, 11), (1153724, 5), (1153736, inf), (23258, 4), (1129208, 3), (1153784, 2), (523010, inf), (6917, 5), (1104647, 2), (662279, inf), (6923, 5), (64271, 3), (1153811, 6), (6935, 10), (6941, 6), (1121057, inf), (1121063, inf), (170798, 2), (252725, inf), (375605, inf), (1153853, 1), (64319, inf), (1153877, inf), (1153889, inf), (129896, inf), (711527, 11), (7022, 5), (1104749, inf), (1153922, 3), (1153943, 1), (1129367, inf), (1153946, inf), (1104809, inf), (1113035, inf), (39890, inf), (23507, 5), (1104851, 3), (1154012, inf), (949217, 11), (1129442, inf), (64484, inf), (179180, inf), (654326, 5), (1022969, inf), (23546, 5), (1154042, inf), (31769, 5), (613409, inf), (752684, inf), (15431, inf), (1154123, 5), (1113182, 3), (416867, inf), (523394, inf), (1129610, 2), (646286, inf), (646289, inf), (1121459, 7), (23738, 8), (40124, inf), (646334, inf), (335042, inf), (72908, 5), (40151, inf), (236759, inf), (23774, 3), (1154276, 8), (892139, 3), (417017, 3), (1105148, inf), (1121537, inf), (7430, inf), (949511, 5), (646412, inf), (785678, 2), (1031453, inf), (687401, inf), (1129778, 1), (523574, inf), (1121603, inf), (294239, inf), (154982, 8), (7532, inf), (1129835, inf), (1138043, inf), (56708, inf), (753047, inf), (1154459, 1), (163235, inf), (105899, 6), (1138091, inf), (384428, inf), (1129907, inf), (81350, 5), (1113551, 2), (310742, inf), (1154525, inf), (1105394, inf), (179702, inf), (1129994, 12), (1113614, 2), (32276, inf), (1105433, inf), (65057, inf), (245288, inf), (1121867, 9), (1130069, inf), (1105505, inf), (97892, 4), (48764, inf), (228992, inf), (114308, 2), (40583, inf), (1105574, inf), (1105622, inf), (646913, 2), (1130243, inf), (57119, inf), (212777, 5), (1105718, 4), (81722, 1), (1113926, 12), (286562, inf), (1113995, inf), (24476, inf), (188318, 2), (737204, inf), (40886, inf), (1138619, inf), (212930, inf), (237521, inf), (24530, inf), (1105877, inf), (40922, 10), (131042, inf), (262121, inf), (73712, inf)]\n"
          ]
        }
      ]
    },
    {
      "cell_type": "markdown",
      "source": [
        "Vemos que (en el caso del grafo de Cora) existen nodos con costo infinito. Esto esta bien, y significa que estos nodos no son alcanzables desde el nodo inicial."
      ],
      "metadata": {
        "id": "3BZs77ggKepK"
      }
    },
    {
      "cell_type": "code",
      "source": [],
      "metadata": {
        "id": "OVhE2rgiHK4g"
      },
      "execution_count": null,
      "outputs": []
    }
  ]
}